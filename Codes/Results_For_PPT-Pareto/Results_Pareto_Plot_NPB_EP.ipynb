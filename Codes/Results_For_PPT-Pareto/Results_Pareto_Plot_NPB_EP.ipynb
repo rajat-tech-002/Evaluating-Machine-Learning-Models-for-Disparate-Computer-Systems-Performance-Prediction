{
 "cells": [
  {
   "cell_type": "code",
   "execution_count": 1,
   "metadata": {},
   "outputs": [],
   "source": [
    "all_csv_path = 'NPB_EP_Physical_Results\\\\'"
   ]
  },
  {
   "cell_type": "code",
   "execution_count": 2,
   "metadata": {},
   "outputs": [],
   "source": [
    "import pandas as pd\n",
    "import matplotlib as mpl\n",
    "import matplotlib.pyplot as plt\n",
    "from matplotlib import pyplot\n",
    "import numpy as np\n",
    "plt.rcParams.update({'figure.max_open_warning': 0})\n",
    "from IPython.display import display, HTML"
   ]
  },
  {
   "cell_type": "code",
   "execution_count": 3,
   "metadata": {},
   "outputs": [],
   "source": [
    "font = {'family' : 'normal',\n",
    "        'weight' : 'bold',\n",
    "        'size'   : 10}\n",
    "\n",
    "mpl.rc('font', **font)"
   ]
  },
  {
   "cell_type": "code",
   "execution_count": 4,
   "metadata": {},
   "outputs": [],
   "source": [
    "import os\n",
    "ls_all_csv = os.listdir(all_csv_path)"
   ]
  },
  {
   "cell_type": "code",
   "execution_count": 5,
   "metadata": {},
   "outputs": [
    {
     "data": {
      "text/plain": [
       "['runtimes_final_npb_ep_60_40.csv',\n",
       " 'runtimes_final_npb_ep_70_30.csv',\n",
       " 'runtimes_final_npb_ep_80_20.csv']"
      ]
     },
     "execution_count": 5,
     "metadata": {},
     "output_type": "execute_result"
    }
   ],
   "source": [
    "ls_all_csv"
   ]
  },
  {
   "cell_type": "code",
   "execution_count": 6,
   "metadata": {},
   "outputs": [],
   "source": [
    "def return_df(df, file, val):\n",
    "    ls = ['best_svr', 'best_lr', 'best_rr', 'best_knn', 'best_gpr','best_dt','best_rf','best_etr',\n",
    "          'best_gbr', 'best_xgb', 'dnn_1', 'dnn_2', 'dnn_3', 'dnn_4']\n",
    "    # ,'dnn_1', 'dnn_2', 'dnn_3', 'dnn_4'\n",
    "    new_df = pd.DataFrame(columns = ls) \n",
    "    for i in range(len(ls)):\n",
    "        arr = [float(s) for s in df[val][i][1:-1].split(',')]\n",
    "        new_df[ls[i]] = arr\n",
    "    return new_df"
   ]
  },
  {
   "cell_type": "markdown",
   "metadata": {},
   "source": [
    "# R2 Score"
   ]
  },
  {
   "cell_type": "code",
   "execution_count": 7,
   "metadata": {},
   "outputs": [],
   "source": [
    "df_set_r2 = [] \n",
    "for file in ls_all_csv:\n",
    "    df = pd.read_csv(all_csv_path + '/' + file)\n",
    "    df_set_r2.append(return_df(df, file, val = 'r2'))"
   ]
  },
  {
   "cell_type": "code",
   "execution_count": 8,
   "metadata": {},
   "outputs": [],
   "source": [
    "df_set_mape = [] \n",
    "for file in ls_all_csv:\n",
    "    df = pd.read_csv(all_csv_path + '/' + file)\n",
    "    df_set_mape.append(return_df(df, file, val = 'mape'))"
   ]
  },
  {
   "cell_type": "code",
   "execution_count": 9,
   "metadata": {},
   "outputs": [],
   "source": [
    "df_set_mse = [] \n",
    "for file in ls_all_csv:\n",
    "    df = pd.read_csv(all_csv_path + '/' + file)\n",
    "    # print(df.head())\n",
    "    # break\n",
    "    df_set_mse.append(return_df(df, file, val = 'mse'))"
   ]
  },
  {
   "cell_type": "code",
   "execution_count": 10,
   "metadata": {},
   "outputs": [
    {
     "data": {
      "text/plain": [
       "3"
      ]
     },
     "execution_count": 10,
     "metadata": {},
     "output_type": "execute_result"
    }
   ],
   "source": [
    "len(df_set_mape)"
   ]
  },
  {
   "cell_type": "code",
   "execution_count": 11,
   "metadata": {},
   "outputs": [],
   "source": [
    "def find_y_r2(df):\n",
    "    y = []\n",
    "    for i in range(len(df.columns)):\n",
    "        y_temp = df[df.columns[i]].tolist()\n",
    "        y.append(np.mean(y_temp))\n",
    "    # print(y)    \n",
    "    return y"
   ]
  },
  {
   "cell_type": "code",
   "execution_count": 12,
   "metadata": {},
   "outputs": [],
   "source": [
    "def find_y_mape(df):\n",
    "    y = []\n",
    "    for i in range(len(df.columns)):\n",
    "        y_temp = df[df.columns[i]].tolist()\n",
    "        y_temp = [x * 100 for x in y_temp]\n",
    "        #print(y_temp)\n",
    "        y.append(np.median(y_temp))\n",
    "        # y.append(y_temp)\n",
    "    # print(y)    \n",
    "    return y"
   ]
  },
  {
   "cell_type": "code",
   "execution_count": 13,
   "metadata": {},
   "outputs": [],
   "source": [
    "def find_y_mse(df):\n",
    "    y = []\n",
    "    for i in range(len(df.columns)):\n",
    "        y_temp = df[df.columns[i]].tolist()\n",
    "        # y_temp = [x * 100 for x in y_temp]\n",
    "        #print(y_temp)\n",
    "        y.append(np.mean(y_temp))\n",
    "        # y.append(y_temp)\n",
    "    # print(y)    \n",
    "    return y"
   ]
  },
  {
   "cell_type": "code",
   "execution_count": 14,
   "metadata": {},
   "outputs": [],
   "source": [
    "cbmb = [0,1,2]\n",
    "cb = cbmb\n",
    "mb =  cbmb\n",
    "dataset_names = ls_all_csv"
   ]
  },
  {
   "cell_type": "code",
   "execution_count": 15,
   "metadata": {},
   "outputs": [
    {
     "data": {
      "text/plain": [
       "['runtimes_final_npb_ep_60_40.csv',\n",
       " 'runtimes_final_npb_ep_70_30.csv',\n",
       " 'runtimes_final_npb_ep_80_20.csv']"
      ]
     },
     "execution_count": 15,
     "metadata": {},
     "output_type": "execute_result"
    }
   ],
   "source": [
    "ls_all_csv"
   ]
  },
  {
   "cell_type": "markdown",
   "metadata": {},
   "source": [
    "# Mean R2 and Median APE values for all models"
   ]
  },
  {
   "cell_type": "markdown",
   "metadata": {},
   "source": [
    "# Commpute Bound Fig 2"
   ]
  },
  {
   "cell_type": "code",
   "execution_count": 16,
   "metadata": {},
   "outputs": [
    {
     "name": "stdout",
     "output_type": "stream",
     "text": [
      "Mean R2 Values for dataset: runtimes_final_npb_ep_60_40.csv 0.7972500907517603 \n",
      "\n",
      "Mean R2 Values for dataset: runtimes_final_npb_ep_70_30.csv 0.8532131900219639 \n",
      "\n",
      "Mean R2 Values for dataset: runtimes_final_npb_ep_80_20.csv 0.8668762545241538 \n",
      "\n",
      "0.5034679070595757\n"
     ]
    }
   ],
   "source": [
    "sum_r2 = 0\n",
    "for j in range(len(cbmb)):\n",
    "    color = 'tab:red'\n",
    "    y_r2 = find_y_r2(df_set_r2[cb[j]])\n",
    "    print('Mean R2 Values for dataset:', dataset_names[cbmb[j]], np.mean(y_r2[5:10]),  '\\n')\n",
    "    sum_r2 = sum_r2 + np.mean(y_r2[5:10])\n",
    "    # y_mape = find_y_mape(df_set_mape[cb[j]])\n",
    "    # print('Median Values for dataset:', dataset_names[cb[j]],y_mape,  '\\n')\n",
    "print(sum_r2/5)    "
   ]
  },
  {
   "cell_type": "code",
   "execution_count": 17,
   "metadata": {},
   "outputs": [
    {
     "name": "stdout",
     "output_type": "stream",
     "text": [
      "Mean R2 Values for dataset: runtimes_final_npb_ep_60_40.csv 12.265454972148083 \n",
      "\n",
      "Mean R2 Values for dataset: runtimes_final_npb_ep_70_30.csv 10.128170010193017 \n",
      "\n",
      "Mean R2 Values for dataset: runtimes_final_npb_ep_80_20.csv 9.845051760649799 \n",
      "\n",
      "6.447735348598181\n"
     ]
    }
   ],
   "source": [
    "sum_mape = 0\n",
    "for j in range(len(cb)):\n",
    "    color = 'tab:red'\n",
    "    y_mape = find_y_mape(df_set_mape[cb[j]])\n",
    "    print('Mean R2 Values for dataset:', dataset_names[cb[j]], np.mean(y_mape[5:10]),  '\\n')\n",
    "    sum_mape = sum_mape + np.mean(y_mape[5:10])\n",
    "    # y_mape = find_y_mape(df_set_mape[cb[j]])\n",
    "    # print('Median Values for dataset:', dataset_names[cb[j]],y_mape,  '\\n')\n",
    "print(sum_mape/5)    "
   ]
  },
  {
   "cell_type": "code",
   "execution_count": 18,
   "metadata": {},
   "outputs": [
    {
     "data": {
      "text/plain": [
       "[11.526350431770375,\n",
       " 63.922093726470635,\n",
       " 65.02149198221097,\n",
       " 13.032158737239367,\n",
       " 30.145577174186663,\n",
       " 14.169863354330758,\n",
       " 8.412035092377083,\n",
       " 2.0951994080967378,\n",
       " 15.276428746314515,\n",
       " 9.271732202129899,\n",
       " 756.0039,\n",
       " 44.910055,\n",
       " 90.0058325,\n",
       " 90.36113599999999]"
      ]
     },
     "execution_count": 18,
     "metadata": {},
     "output_type": "execute_result"
    }
   ],
   "source": [
    "y_mape"
   ]
  },
  {
   "cell_type": "code",
   "execution_count": 19,
   "metadata": {},
   "outputs": [
    {
     "data": {
      "text/plain": [
       "[0.7957747664349692,\n",
       " 0.3729789192112599,\n",
       " 0.37678365778907796,\n",
       " 0.6249972895937155,\n",
       " 0.5809053277675393,\n",
       " 0.8100844001916002,\n",
       " 0.8934756149216152,\n",
       " 0.9499843069768195,\n",
       " 0.777349369238499,\n",
       " 0.9034875812922352,\n",
       " -25.715324623702042,\n",
       " -0.12110492480653726,\n",
       " -1.2738959277974953,\n",
       " -1.3240891746314145]"
      ]
     },
     "execution_count": 19,
     "metadata": {},
     "output_type": "execute_result"
    }
   ],
   "source": [
    "y_r2"
   ]
  },
  {
   "cell_type": "code",
   "execution_count": 20,
   "metadata": {},
   "outputs": [
    {
     "data": {
      "text/plain": [
       "['runtimes_final_npb_ep_60_40.csv',\n",
       " 'runtimes_final_npb_ep_70_30.csv',\n",
       " 'runtimes_final_npb_ep_80_20.csv']"
      ]
     },
     "execution_count": 20,
     "metadata": {},
     "output_type": "execute_result"
    }
   ],
   "source": [
    "ls_all_csv"
   ]
  },
  {
   "cell_type": "code",
   "execution_count": 22,
   "metadata": {},
   "outputs": [
    {
     "name": "stderr",
     "output_type": "stream",
     "text": [
      "C:\\Users\\Rajat\\Anaconda3\\lib\\site-packages\\ipykernel_launcher.py:32: UserWarning: Matplotlib is currently using module://ipykernel.pylab.backend_inline, which is a non-GUI backend, so cannot show the figure.\n",
      "findfont: Font family ['normal'] not found. Falling back to DejaVu Sans.\n",
      "The PostScript backend does not support transparency; partially transparent artists will be rendered opaque.\n",
      "The PostScript backend does not support transparency; partially transparent artists will be rendered opaque.\n",
      "The PostScript backend does not support transparency; partially transparent artists will be rendered opaque.\n",
      "The PostScript backend does not support transparency; partially transparent artists will be rendered opaque.\n"
     ]
    },
    {
     "data": {
      "image/png": "[encoded data removed]",
      "text/plain": [
       "<Figure size 720x360 with 1 Axes>"
      ]
     },
     "metadata": {
      "needs_background": "light"
     },
     "output_type": "display_data"
    }
   ],
   "source": [
    "ls_temp = ['svr', 'lr', 'rr', 'knn', 'gpr','dt','rf','etr',\n",
    "          'gbr', 'xgb' ,'dnn_1', 'dnn_2', 'dnn_3', 'dnn_4']\n",
    "# fig, ax = plt.subplots(1,1, figsize = (10, 7)) # create 2x2 array of subplots\n",
    "k = 0\n",
    "dataset = ['d1','d2','d3']\n",
    "dataset_names = ls_all_csv\n",
    "y_r2_60 = find_y_r2(df_set_r2[0])\n",
    "y_mape_60 = find_y_mape(df_set_mape[0])\n",
    "y_r2_70 = find_y_r2(df_set_r2[1])\n",
    "y_mape_70 = find_y_mape(df_set_mape[1])\n",
    "y_r2_80 = find_y_r2(df_set_r2[2])\n",
    "y_mape_80 = find_y_mape(df_set_mape[2])\n",
    "\n",
    "# ls_temp = ['lr', 'rr', 'knn','gpr','dt','rf','etr','dnn']\n",
    "ls = np.arange(0,14)\n",
    "fig, ax = plt.subplots(1,1, figsize = (10, 5)) # create 2x2 array of subplots\n",
    "\n",
    "bar1 = ax.bar(ls-0.25,y_mape_60, width = 0.25,color = 'lime', label = 'Train:Test = 60:40', align = 'center')\n",
    "bar2 = ax.bar(ls,y_mape_70, width = 0.25, color = 'crimson', label = 'Train:Test = 70:30', align = 'center')\n",
    "bar3 = ax.bar(ls+0.25,y_mape_80, width = 0.25, color = 'mediumblue', label = 'Train:Test = 80:20', align = 'center')\n",
    "ax.set_ylim(0,50)\n",
    "ax.set_xticks(ls)\n",
    "ax.set_xticklabels(ls_temp, rotation = 90, fontsize = 25)\n",
    "ax.legend(frameon= True, loc='upper right', prop={'size': 18})\n",
    "ax.ticklabel_format(style='sci', axis='y', scilimits=(0,0))\n",
    "# plt.title('MedAPE')\n",
    "ax.grid()\n",
    "# ax.autoscale(tight=True)\n",
    "\n",
    "plt.rc('font', size = 23)\n",
    "\n",
    "fig.show()\n",
    "\n",
    "plt.savefig('npb_ep_physical_pareto.eps', bbox_inches = 'tight')"
   ]
  },
  {
   "cell_type": "code",
   "execution_count": null,
   "metadata": {},
   "outputs": [],
   "source": []
  }
 ],
 "metadata": {
  "kernelspec": {
   "display_name": "Python 3",
   "language": "python",
   "name": "python3"
  },
  "language_info": {
   "codemirror_mode": {
    "name": "ipython",
    "version": 3
   },
   "file_extension": ".py",
   "mimetype": "text/x-python",
   "name": "python",
   "nbconvert_exporter": "python",
   "pygments_lexer": "ipython3",
   "version": "3.7.3"
  }
 },
 "nbformat": 4,
 "nbformat_minor": 2
}
