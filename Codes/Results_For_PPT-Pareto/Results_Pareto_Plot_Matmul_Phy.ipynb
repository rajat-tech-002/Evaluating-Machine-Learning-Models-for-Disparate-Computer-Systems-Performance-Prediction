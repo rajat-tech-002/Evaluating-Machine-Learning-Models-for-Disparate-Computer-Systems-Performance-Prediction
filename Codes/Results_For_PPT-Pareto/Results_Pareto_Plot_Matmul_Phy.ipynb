{
 "cells": [
  {
   "cell_type": "code",
   "execution_count": 50,
   "metadata": {},
   "outputs": [],
   "source": [
    "all_csv_path = 'Matmul_Physical_Results\\\\'"
   ]
  },
  {
   "cell_type": "code",
   "execution_count": 51,
   "metadata": {},
   "outputs": [],
   "source": [
    "import pandas as pd\n",
    "import matplotlib as mpl\n",
    "import matplotlib.pyplot as plt\n",
    "from matplotlib import pyplot\n",
    "import numpy as np\n",
    "plt.rcParams.update({'figure.max_open_warning': 0})\n",
    "from IPython.display import display, HTML"
   ]
  },
  {
   "cell_type": "code",
   "execution_count": 52,
   "metadata": {},
   "outputs": [],
   "source": [
    "font = {'family' : 'normal',\n",
    "        'weight' : 'bold',\n",
    "        'size'   : 10}\n",
    "\n",
    "mpl.rc('font', **font)"
   ]
  },
  {
   "cell_type": "code",
   "execution_count": 53,
   "metadata": {},
   "outputs": [],
   "source": [
    "import os\n",
    "ls_all_csv = os.listdir(all_csv_path)"
   ]
  },
  {
   "cell_type": "code",
   "execution_count": 54,
   "metadata": {},
   "outputs": [
    {
     "data": {
      "text/plain": [
       "['matmul_physical_60_40.csv',\n",
       " 'matmul_physical_70_30.csv',\n",
       " 'matmul_physical_80_20.csv']"
      ]
     },
     "execution_count": 54,
     "metadata": {},
     "output_type": "execute_result"
    }
   ],
   "source": [
    "ls_all_csv"
   ]
  },
  {
   "cell_type": "code",
   "execution_count": 55,
   "metadata": {},
   "outputs": [],
   "source": [
    "def return_df(df, file, val):\n",
    "    ls = ['best_svr', 'best_lr', 'best_rr', 'best_knn', 'best_gpr','best_dt','best_rf','best_etr',\n",
    "          'best_gbr', 'best_xgb', 'dnn_1', 'dnn_2', 'dnn_3', 'dnn_4']\n",
    "    # ,'dnn_1', 'dnn_2', 'dnn_3', 'dnn_4'\n",
    "    new_df = pd.DataFrame(columns = ls) \n",
    "    for i in range(len(ls)):\n",
    "        arr = [float(s) for s in df[val][i][1:-1].split(',')]\n",
    "        new_df[ls[i]] = arr\n",
    "    return new_df"
   ]
  },
  {
   "cell_type": "markdown",
   "metadata": {},
   "source": [
    "# R2 Score"
   ]
  },
  {
   "cell_type": "code",
   "execution_count": 56,
   "metadata": {},
   "outputs": [],
   "source": [
    "df_set_r2 = [] \n",
    "for file in ls_all_csv:\n",
    "    df = pd.read_csv(all_csv_path + '/' + file)\n",
    "    df_set_r2.append(return_df(df, file, val = 'r2'))"
   ]
  },
  {
   "cell_type": "code",
   "execution_count": 57,
   "metadata": {},
   "outputs": [],
   "source": [
    "df_set_mape = [] \n",
    "for file in ls_all_csv:\n",
    "    df = pd.read_csv(all_csv_path + '/' + file)\n",
    "    df_set_mape.append(return_df(df, file, val = 'mape'))"
   ]
  },
  {
   "cell_type": "code",
   "execution_count": 58,
   "metadata": {},
   "outputs": [],
   "source": [
    "df_set_mse = [] \n",
    "for file in ls_all_csv:\n",
    "    df = pd.read_csv(all_csv_path + '/' + file)\n",
    "    # print(df.head())\n",
    "    # break\n",
    "    df_set_mse.append(return_df(df, file, val = 'mse'))"
   ]
  },
  {
   "cell_type": "code",
   "execution_count": 59,
   "metadata": {},
   "outputs": [
    {
     "data": {
      "text/plain": [
       "3"
      ]
     },
     "execution_count": 59,
     "metadata": {},
     "output_type": "execute_result"
    }
   ],
   "source": [
    "len(df_set_mape)"
   ]
  },
  {
   "cell_type": "code",
   "execution_count": 60,
   "metadata": {},
   "outputs": [],
   "source": [
    "def find_y_r2(df):\n",
    "    y = []\n",
    "    for i in range(len(df.columns)):\n",
    "        y_temp = df[df.columns[i]].tolist()\n",
    "        y.append(np.mean(y_temp))\n",
    "    # print(y)    \n",
    "    return y"
   ]
  },
  {
   "cell_type": "code",
   "execution_count": 61,
   "metadata": {},
   "outputs": [],
   "source": [
    "def find_y_mape(df):\n",
    "    y = []\n",
    "    for i in range(len(df.columns)):\n",
    "        y_temp = df[df.columns[i]].tolist()\n",
    "        y_temp = [x * 100 for x in y_temp]\n",
    "        #print(y_temp)\n",
    "        y.append(np.median(y_temp))\n",
    "        # y.append(y_temp)\n",
    "    # print(y)    \n",
    "    return y"
   ]
  },
  {
   "cell_type": "code",
   "execution_count": 62,
   "metadata": {},
   "outputs": [],
   "source": [
    "def find_y_mse(df):\n",
    "    y = []\n",
    "    for i in range(len(df.columns)):\n",
    "        y_temp = df[df.columns[i]].tolist()\n",
    "        # y_temp = [x * 100 for x in y_temp]\n",
    "        #print(y_temp)\n",
    "        y.append(np.mean(y_temp))\n",
    "        # y.append(y_temp)\n",
    "    # print(y)    \n",
    "    return y"
   ]
  },
  {
   "cell_type": "code",
   "execution_count": 63,
   "metadata": {},
   "outputs": [],
   "source": [
    "cbmb = [0,1,2]\n",
    "cb = cbmb\n",
    "mb =  cbmb\n",
    "dataset_names = ls_all_csv"
   ]
  },
  {
   "cell_type": "code",
   "execution_count": 64,
   "metadata": {},
   "outputs": [
    {
     "data": {
      "text/plain": [
       "['matmul_physical_60_40.csv',\n",
       " 'matmul_physical_70_30.csv',\n",
       " 'matmul_physical_80_20.csv']"
      ]
     },
     "execution_count": 64,
     "metadata": {},
     "output_type": "execute_result"
    }
   ],
   "source": [
    "ls_all_csv"
   ]
  },
  {
   "cell_type": "markdown",
   "metadata": {},
   "source": [
    "# Mean R2 and Median APE values for all models"
   ]
  },
  {
   "cell_type": "markdown",
   "metadata": {},
   "source": [
    "# Commpute Bound Fig 2"
   ]
  },
  {
   "cell_type": "code",
   "execution_count": 65,
   "metadata": {},
   "outputs": [
    {
     "name": "stdout",
     "output_type": "stream",
     "text": [
      "Mean R2 Values for dataset: matmul_physical_60_40.csv 0.974962881805672 \n",
      "\n",
      "Mean R2 Values for dataset: matmul_physical_70_30.csv 0.9852353258793537 \n",
      "\n",
      "Mean R2 Values for dataset: matmul_physical_80_20.csv 0.9872064743733798 \n",
      "\n",
      "0.5894809364116811\n"
     ]
    }
   ],
   "source": [
    "sum_r2 = 0\n",
    "for j in range(len(cbmb)):\n",
    "    color = 'tab:red'\n",
    "    y_r2 = find_y_r2(df_set_r2[cb[j]])\n",
    "    print('Mean R2 Values for dataset:', dataset_names[cbmb[j]], np.mean(y_r2[5:10]),  '\\n')\n",
    "    sum_r2 = sum_r2 + np.mean(y_r2[5:10])\n",
    "    # y_mape = find_y_mape(df_set_mape[cb[j]])\n",
    "    # print('Median Values for dataset:', dataset_names[cb[j]],y_mape,  '\\n')\n",
    "print(sum_r2/5)    "
   ]
  },
  {
   "cell_type": "code",
   "execution_count": 66,
   "metadata": {},
   "outputs": [
    {
     "name": "stdout",
     "output_type": "stream",
     "text": [
      "Mean R2 Values for dataset: matmul_physical_60_40.csv 4.6161939517023995 \n",
      "\n",
      "Mean R2 Values for dataset: matmul_physical_70_30.csv 3.89024543601759 \n",
      "\n",
      "Mean R2 Values for dataset: matmul_physical_80_20.csv 3.526625333634203 \n",
      "\n",
      "2.406612944270839\n"
     ]
    }
   ],
   "source": [
    "sum_mape = 0\n",
    "for j in range(len(cb)):\n",
    "    color = 'tab:red'\n",
    "    y_mape = find_y_mape(df_set_mape[cb[j]])\n",
    "    print('Mean R2 Values for dataset:', dataset_names[cb[j]], np.mean(y_mape[5:10]),  '\\n')\n",
    "    sum_mape = sum_mape + np.mean(y_mape[5:10])\n",
    "    # y_mape = find_y_mape(df_set_mape[cb[j]])\n",
    "    # print('Median Values for dataset:', dataset_names[cb[j]],y_mape,  '\\n')\n",
    "print(sum_mape/5)    "
   ]
  },
  {
   "cell_type": "code",
   "execution_count": 67,
   "metadata": {},
   "outputs": [
    {
     "data": {
      "text/plain": [
       "[69.82490230103822,\n",
       " 41.20631341670857,\n",
       " 40.18942569608832,\n",
       " 3.611497700172004,\n",
       " 30.578077135266824,\n",
       " 4.880601972984634,\n",
       " 2.452826044538164,\n",
       " 0.33983782542156493,\n",
       " 5.082939230838545,\n",
       " 4.87692159438811,\n",
       " 57.823775,\n",
       " 13.1162975,\n",
       " 29.089259,\n",
       " 25.0373825]"
      ]
     },
     "execution_count": 67,
     "metadata": {},
     "output_type": "execute_result"
    }
   ],
   "source": [
    "y_mape"
   ]
  },
  {
   "cell_type": "code",
   "execution_count": 68,
   "metadata": {},
   "outputs": [
    {
     "data": {
      "text/plain": [
       "[-0.07009686714473792,\n",
       " 0.7652223231226121,\n",
       " 0.7848582089000076,\n",
       " 0.9863557536676175,\n",
       " 0.8343150060468464,\n",
       " 0.9775673859487626,\n",
       " 0.9965636731351701,\n",
       " 0.9998510048031758,\n",
       " 0.97124556124247,\n",
       " 0.9908047467373207,\n",
       " -0.04133382772114651,\n",
       " 0.9616455519511649,\n",
       " 0.36998092766884616,\n",
       " 0.2975881837732691]"
      ]
     },
     "execution_count": 68,
     "metadata": {},
     "output_type": "execute_result"
    }
   ],
   "source": [
    "y_r2"
   ]
  },
  {
   "cell_type": "code",
   "execution_count": 69,
   "metadata": {},
   "outputs": [
    {
     "data": {
      "text/plain": [
       "['matmul_physical_60_40.csv',\n",
       " 'matmul_physical_70_30.csv',\n",
       " 'matmul_physical_80_20.csv']"
      ]
     },
     "execution_count": 69,
     "metadata": {},
     "output_type": "execute_result"
    }
   ],
   "source": [
    "ls_all_csv"
   ]
  },
  {
   "cell_type": "code",
   "execution_count": 71,
   "metadata": {},
   "outputs": [
    {
     "name": "stderr",
     "output_type": "stream",
     "text": [
      "C:\\Users\\Rajat\\Anaconda3\\lib\\site-packages\\ipykernel_launcher.py:32: UserWarning: Matplotlib is currently using module://ipykernel.pylab.backend_inline, which is a non-GUI backend, so cannot show the figure.\n",
      "The PostScript backend does not support transparency; partially transparent artists will be rendered opaque.\n",
      "The PostScript backend does not support transparency; partially transparent artists will be rendered opaque.\n",
      "The PostScript backend does not support transparency; partially transparent artists will be rendered opaque.\n",
      "The PostScript backend does not support transparency; partially transparent artists will be rendered opaque.\n"
     ]
    },
    {
     "data": {
      "image/png": "[encoded data removed]",
      "text/plain": [
       "<Figure size 720x360 with 1 Axes>"
      ]
     },
     "metadata": {
      "needs_background": "light"
     },
     "output_type": "display_data"
    }
   ],
   "source": [
    "ls_temp = ['svr', 'lr', 'rr', 'knn', 'gpr','dt','rf','etr',\n",
    "          'gbr', 'xgb' ,'dnn_1', 'dnn_2', 'dnn_3', 'dnn_4']\n",
    "# fig, ax = plt.subplots(1,1, figsize = (10, 7)) # create 2x2 array of subplots\n",
    "k = 0\n",
    "dataset = ['d1','d2','d3']\n",
    "dataset_names = ls_all_csv\n",
    "y_r2_60 = find_y_r2(df_set_r2[0])\n",
    "y_mape_60 = find_y_mape(df_set_mape[0])\n",
    "y_r2_70 = find_y_r2(df_set_r2[1])\n",
    "y_mape_70 = find_y_mape(df_set_mape[1])\n",
    "y_r2_80 = find_y_r2(df_set_r2[2])\n",
    "y_mape_80 = find_y_mape(df_set_mape[2])\n",
    "\n",
    "# ls_temp = ['lr', 'rr', 'knn','gpr','dt','rf','etr','dnn']\n",
    "ls = np.arange(0,14)\n",
    "fig, ax = plt.subplots(1,1, figsize = (10, 5)) # create 2x2 array of subplots\n",
    "\n",
    "bar1 = ax.bar(ls-0.25,y_mape_60, width = 0.25,color = 'lime', label = 'Train:Test = 60:40', align = 'center')\n",
    "bar2 = ax.bar(ls,y_mape_70, width = 0.25, color = 'crimson', label = 'Train:Test = 70:30', align = 'center')\n",
    "bar3 = ax.bar(ls+0.25,y_mape_80, width = 0.25, color = 'mediumblue', label = 'Train:Test = 80:20', align = 'center')\n",
    "ax.set_ylim(0,50)\n",
    "ax.set_xticks(ls)\n",
    "ax.set_xticklabels(ls_temp, rotation = 90, fontsize = 25)\n",
    "ax.legend(frameon= True, loc='upper right', prop={'size': 18})\n",
    "ax.ticklabel_format(style='sci', axis='y', scilimits=(0,0))\n",
    "# plt.title('MedAPE')\n",
    "ax.grid()\n",
    "# ax.autoscale(tight=True)\n",
    "\n",
    "plt.rc('font', size = 23)\n",
    "\n",
    "fig.show()\n",
    "\n",
    "plt.savefig('matmul_physical_pareto.eps', bbox_inches = 'tight')"
   ]
  },
  {
   "cell_type": "code",
   "execution_count": null,
   "metadata": {},
   "outputs": [],
   "source": []
  }
 ],
 "metadata": {
  "kernelspec": {
   "display_name": "Python 3",
   "language": "python",
   "name": "python3"
  },
  "language_info": {
   "codemirror_mode": {
    "name": "ipython",
    "version": 3
   },
   "file_extension": ".py",
   "mimetype": "text/x-python",
   "name": "python",
   "nbconvert_exporter": "python",
   "pygments_lexer": "ipython3",
   "version": "3.7.3"
  }
 },
 "nbformat": 4,
 "nbformat_minor": 2
}
